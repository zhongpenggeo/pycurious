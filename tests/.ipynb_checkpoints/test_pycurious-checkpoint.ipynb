{
 "cells": [
  {
   "cell_type": "code",
   "execution_count": 1,
   "metadata": {},
   "outputs": [],
   "source": [
    "import numpy as np\n",
    "import matplotlib.pyplot as plt\n",
    "import pycurious\n",
    "import time"
   ]
  },
  {
   "cell_type": "code",
   "execution_count": 2,
   "metadata": {},
   "outputs": [],
   "source": [
    "# initialise CurieOptimise object\n",
    "max_window = 100e3\n",
    "\n",
    "\n",
    "# square grid 100km x 100km\n",
    "\n",
    "xmin = 0.0\n",
    "xmax = 100e3\n",
    "ymin = 0.0\n",
    "ymax = 100e3\n",
    "\n",
    "nx = 100\n",
    "ny = 100\n",
    "\n",
    "# random noise\n",
    "mag_grid = np.random.randn(ny,nx)\n",
    "\n",
    "cpd = pycurious.CurieOptimise(mag_grid, xmin, xmax, ymin, ymax)"
   ]
  },
  {
   "cell_type": "code",
   "execution_count": 4,
   "metadata": {},
   "outputs": [
    {
     "name": "stdout",
     "output_type": "stream",
     "text": [
      "[[-0.67320956  1.82681825  0.46347046 ...  0.39678482 -0.78431032\n",
      "  -1.50540292]\n",
      " [-0.22548538 -0.61149584 -1.16625622 ... -1.06401567 -1.35490864\n",
      "  -0.82093014]\n",
      " [ 0.48996119 -0.97434939  0.47287501 ... -1.56505171 -0.80817788\n",
      "  -2.18613478]\n",
      " ...\n",
      " [ 0.35240049  0.22314839  1.12828986 ...  1.14187984 -0.66659077\n",
      "   0.78883206]\n",
      " [-0.95385048 -0.47295906  0.27263288 ... -0.12748784 -0.54877038\n",
      "   2.04812698]\n",
      " [ 0.29655019 -0.18549377 -0.1849974  ...  0.0060055  -0.81359408\n",
      "   0.08735621]]\n"
     ]
    }
   ],
   "source": [
    "print (mag_grid)"
   ]
  },
  {
   "cell_type": "code",
   "execution_count": null,
   "metadata": {},
   "outputs": [],
   "source": []
  }
 ],
 "metadata": {
  "kernelspec": {
   "display_name": "Python 3",
   "language": "python",
   "name": "python3"
  },
  "language_info": {
   "codemirror_mode": {
    "name": "ipython",
    "version": 3
   },
   "file_extension": ".py",
   "mimetype": "text/x-python",
   "name": "python",
   "nbconvert_exporter": "python",
   "pygments_lexer": "ipython3",
   "version": "3.7.0"
  }
 },
 "nbformat": 4,
 "nbformat_minor": 2
}
