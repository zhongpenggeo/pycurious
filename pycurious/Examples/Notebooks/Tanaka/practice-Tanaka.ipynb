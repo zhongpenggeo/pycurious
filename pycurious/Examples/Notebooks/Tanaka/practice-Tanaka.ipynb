{
 "cells": [
  {
   "cell_type": "markdown",
   "metadata": {},
   "source": [
    "# Example 2 - Compute Curie depth\n",
    "Tanaka *et al.* (1999) based their method upon an expression for the radial power spectrum that assumes random magnetisation of the crust, and a radially averaged power spectra $\\Phi_{\\Delta T}(|k|)$:\n",
    "\n",
    "$$(1) \\Phi_{\\Delta T}(|k|)=Ae^{-2|k|Z_t}(1-e^{-|k|(Z_b-Z_t)})^2$$\n",
    "\n",
    "where:\n",
    " - $k$ - spatial wavenumber ($k=2\\pi/\\lambda$, where $\\lambda$ is wavelength).\n",
    " - $Z_t$ - top of assumed magnetic source.\n",
    " - $Z_b$ - bottom of assumed magnetic source.\n",
    " - ($Z_b-Z_t$ is hence the thickness of the magnetic source)\n",
    "\n",
    "For wavelengths less than twice the source thickness, this simplifies to:\n",
    "\n",
    "$$(2) \\ln [\\Phi_{\\Delta T}(|k|)^{1/2}] = \\ln B-|k|Z_t $$\n",
    "\n",
    "where $B$ is another constant. Conversely, (1) can be rewritten, with $Z_o$ as the centroid depth of the magnetic source:\n",
    "\n",
    "$$(3) \\Phi_{\\Delta T}(|k|)^{1/2} = Ce^{-|k|Z_o}(e^{-|k|(Z_t-Z_o)}-e^{-|k|(Z_b-Z_o)}) $$\n",
    "\n",
    "For long wavelengths, where $2d$ is the magnetic source thickness:\n",
    "$$(4) \\Phi_{\\Delta T}(|k|)^{1/2} = Ce^{-|k|Z_o}(e^{-|k|(-d)}-e^{-|k|(-d)})\\approx Ce^{-|k|Z_o}2|k|d $$\n",
    "\n",
    "$$ \\ln \\{\\Phi_{\\Delta T}(|k|)^{1/2}/|k|\\}=\\ln D-|k|Z_o  $$\n",
    "\n",
    "\n",
    "Estimates of $Z_t$ and $Z_o$ can be estimated from Equations (2) and (5), and hence the base of the magnetic source (assumed to be at the Curie point depth):\n",
    "\n",
    "$$(6) Z_b=Z_o-(Z_t-Z_o) = 2Z_o-Z_t $$\n",
    "\n",
    "### Contents\n",
    "\n",
    "- [Plot radial power spectrum](#Plot-radial-power-spectrum)\n",
    "- [Compute CPD Estimate](#Compute-cpd-estimate)"
   ]
  },
  {
   "cell_type": "code",
   "execution_count": 10,
   "metadata": {},
   "outputs": [],
   "source": [
    "import numpy as np\n",
    "import matplotlib.pyplot as plt\n",
    "%matplotlib inline\n",
    "\n",
    "import pycurious"
   ]
  },
  {
   "cell_type": "code",
   "execution_count": 11,
   "metadata": {},
   "outputs": [],
   "source": [
    "# parameters\n",
    "#(0.08,0.18), (0.01,0.033))\n",
    "k_min0, k_max0 = 0.1, 0.2 # for zt\n",
    "k_min1, k_max1 = 0.01, 0.033  # for zo\n",
    "nx, ny = 343, 268      # nodes of grid;\n",
    "window_size = 200e3    # windows size;\n",
    "x_distance=15e3        # x moving distance, or x resolution\n",
    "y_distance=15e3        # y moving distance, or x resolution\n",
    "input_filename=\"../../data/out.dat\"  # input data; a txt, inverse from grid;\n",
    "#output_filename=\"../../data/zb_3var.txt\"   # result data file"
   ]
  },
  {
   "cell_type": "code",
   "execution_count": 12,
   "metadata": {},
   "outputs": [],
   "source": [
    "# load x,y,anomaly\n",
    "mag_data = np.loadtxt(input_filename)\n",
    "\n",
    "x = mag_data[:,0]\n",
    "y = mag_data[:,1]\n",
    "# sometimes you need spesify a value when the spaceing is not idnetical.\n",
    "nx=len(np.unique(x))   \n",
    "ny=len(np.unique(y))\n",
    "d = mag_data[:,2].reshape(ny,nx)\n",
    "\n",
    "xmin, xmax = x.min(), x.max()\n",
    "ymin, ymax = y.min(), y.max()"
   ]
  },
  {
   "cell_type": "markdown",
   "metadata": {},
   "source": [
    "## Plot radial power spectrum\n",
    "The radial power spectrum is computed from a square window of the magnetic anomaly. Methods to select window sizes and compute the Fast Fourier Transform (FFT) belong to the `CurieGrid` object. We apply the default `np.hanning` taper to the power spectrum as in [Ex1-Plot-power-spectrum](#./Ex1-Plot-power-spectrum.ipynb)."
   ]
  },
  {
   "cell_type": "code",
   "execution_count": 13,
   "metadata": {},
   "outputs": [],
   "source": [
    "# initialise CurieOptimise object\n",
    "grid = pycurious.CurieOptimise(d, xmin, xmax, ymin, ymax)\n",
    "#grid = pycurious.CurieGrid(d, xmin, xmax, ymin, ymax)\n",
    "\n",
    "\n",
    "xc_list, yc_list = grid.create_centroid_list(window_size, spacingX=x_distance, spacingY=y_distance)\n"
   ]
  },
  {
   "cell_type": "code",
   "execution_count": 14,
   "metadata": {},
   "outputs": [],
   "source": [
    "xcoords = np.unique(xc_list)\n",
    "ycoords = np.unique(yc_list)\n",
    "nc, nr = xcoords.size, ycoords.size\n",
    "Z = np.zeros((nc*nr, 3))\n",
    "#print(Zb.shape)\n",
    "for i in range(0, len(xc_list)):\n",
    "    xc=xc_list[i]\n",
    "    yc=yc_list[i]\n",
    "    \n",
    "    subgrid = grid.subgrid(window_size, xc, yc)\n",
    "    k, Phi, sigma_Phi = grid.radial_spectrum_log(subgrid, taper=None)\n",
    "    # notice ,here the frequcey range is wrone , first is zt, second is zo;\n",
    "    (Ztr,btr,dZtr), (Zor, bor, dZor) = grid.optimise_tanaka(k, Phi, (k_min0,k_max0), (k[1]/2/np.pi,k_max1))\n",
    "    Zb=2*Zor-Ztr\n",
    "    Z[i,:]=[xc, yc, Zb]\n",
    "        \n",
    "\n"
   ]
  },
  {
   "cell_type": "code",
   "execution_count": 15,
   "metadata": {},
   "outputs": [
    {
     "data": {
      "text/plain": [
       "<matplotlib.colorbar.Colorbar at 0x230d5a94a90>"
      ]
     },
     "execution_count": 15,
     "metadata": {},
     "output_type": "execute_result"
    },
    {
     "data": {
      "image/png": "[encoded data removed]",
      "text/plain": [
       "<Figure size 360x360 with 2 Axes>"
      ]
     },
     "metadata": {
      "needs_background": "light"
     },
     "output_type": "display_data"
    }
   ],
   "source": [
    "xcoords = np.unique(xc_list)\n",
    "ycoords = np.unique(yc_list)\n",
    "nc, nr = xcoords.size, ycoords.size\n",
    "\n",
    "fig, ax1= plt.subplots(1, 1, sharex=True, sharey=True, figsize=(5,5.))\n",
    "im1 = ax1.pcolor(Z[:, 0].reshape(nr,nc), Z[:, 1].reshape(nr,nc), Z[:, 2].reshape(nr,nc))\n",
    "#im2 = ax2.pcolor(xc_list.reshape(nr,nc), yc_list.reshape(nr,nc), eZb.reshape(nr,nc))\n",
    "fig.colorbar(im1, ax=ax1, label=r\"$Z_b$\")\n",
    "#fig.colorbar(im2, ax=ax2, label=r\"$error(z_b)$\")"
   ]
  },
  {
   "cell_type": "code",
   "execution_count": 16,
   "metadata": {},
   "outputs": [],
   "source": [
    "\n",
    "output_filename='../../data/out_200km_result.txt'\n",
    "np.savetxt(output_filename, Z, fmt=\"%f\")"
   ]
  },
  {
   "cell_type": "code",
   "execution_count": null,
   "metadata": {},
   "outputs": [],
   "source": []
  }
 ],
 "metadata": {
  "kernelspec": {
   "display_name": "Python 3",
   "language": "python",
   "name": "python3"
  },
  "language_info": {
   "codemirror_mode": {
    "name": "ipython",
    "version": 3
   },
   "file_extension": ".py",
   "mimetype": "text/x-python",
   "name": "python",
   "nbconvert_exporter": "python",
   "pygments_lexer": "ipython3",
   "version": "3.7.0"
  }
 },
 "nbformat": 4,
 "nbformat_minor": 2
}
