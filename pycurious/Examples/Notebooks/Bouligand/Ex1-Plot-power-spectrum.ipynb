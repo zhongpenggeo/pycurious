{
 "cells": [
  {
   "cell_type": "markdown",
   "metadata": {},
   "source": [
    "# Example 1 - Plot power spectra\n",
    "\n",
    "`PyCurious` offers convenience functions to extract the radial power spectrum. This has been derived analytically by Bouligand *et al.* 2009.\n",
    "\n",
    "In this notebook we plot the radial power spectrum using the analytical expression, and the spectrum computed from a synthetic magnetic anomaly. (This can be generated from `Bouligand_forward.py` in the `tests` directory.)\n",
    "\n",
    "### Contents\n",
    "\n",
    "- [Analytical solution](#Analytical-solution)\n",
    "- [Radial power spectrum](#Power-spectrum-from-FFT)\n",
    "- [Azimuthal power spectrum](#Azimuthal-power-spectrum)"
   ]
  },
  {
   "cell_type": "code",
   "execution_count": null,
   "metadata": {},
   "outputs": [],
   "source": [
    "import numpy as np\n",
    "import matplotlib.pyplot as plt\n",
    "%matplotlib inline\n",
    "\n",
    "import pycurious"
   ]
  },
  {
   "cell_type": "markdown",
   "metadata": {},
   "source": [
    "## Analytical solution\n",
    "\n",
    "The analytic solution to the power spectrum is given in Equation 4 of [Bouligand *et al.*, 2009](http://doi.wiley.com/10.1029/2009JB006494),\n",
    "\n",
    "$$\\begin{align}\n",
    "\\Phi_{B1D}(|k|)=&C-2|k|z_t-|k|\\Delta z-\\beta \\ln (|k|)\\\\\n",
    "&+\\ln\\left[\\int_0^\\infty\\left(\\cosh(|k|\\Delta z)-\\cos(k_z\\Delta z)\\right)\\left(1+\\left(\\frac{k_z}{|k|}\\right)^2\\right)^{-1-\\frac{\\beta}{2}}\\text{d}k_z\\right]\n",
    "\\end{align}$$\n",
    "\n",
    "where the shape of the curve depends on 4 variables:\n",
    "\n",
    "- $\\beta$ - a fractal parameter\n",
    "- $z_t$ - top of magnetic sources\n",
    "- $\\Delta z$ - thickness of the magnetic layer\n",
    "- $C$ - a field constant\n",
    "\n",
    "We vary each of the parameters below to observe the different shapes of the power spectra."
   ]
  },
  {
   "cell_type": "code",
   "execution_count": null,
   "metadata": {},
   "outputs": [],
   "source": [
    "# wavenumber range\n",
    "k = np.linspace(1e-3, 3, 10000)\n",
    "\n",
    "# Bouligand 2009 test parameters\n",
    "beta = 3.0\n",
    "zt = 0.305\n",
    "dz = 10.0\n",
    "C = 20.0"
   ]
  },
  {
   "cell_type": "code",
   "execution_count": null,
   "metadata": {},
   "outputs": [],
   "source": [
    "k = np.linspace(1e-3, 3, 10000)\n",
    "\n",
    "# Bouligand 2009 test parameters\n",
    "beta = 3.0\n",
    "zt = 0.305\n",
    "dz = 10.0\n",
    "C = 20.0\n",
    "fig = plt.figure()\n",
    "ax1 = fig.add_subplot(111)\n",
    "Phi = pycurious.bouligand2009(k, beta, zt, dz, C)\n",
    "#Phi -= Phi.max()\n",
    "ax1.semilogx(k, Phi, label=r'$z_t$ = {} km'.format(zt))"
   ]
  },
  {
   "cell_type": "code",
   "execution_count": null,
   "metadata": {},
   "outputs": [],
   "source": [
    "# plot Bouligand et al. 2009 curves\n",
    "\n",
    "fig, (ax1, ax2, ax3) = plt.subplots(1,3, figsize=(14,8),)\n",
    "\n",
    "# vary zt\n",
    "for zti in np.arange(0.0, 2.5, 0.5):\n",
    "    Phi = pycurious.bouligand2009(k, beta, zti, dz, C)\n",
    "    Phi -= Phi.max()\n",
    "    ax1.semilogx(k, Phi, label=r'$z_t$ = {} km'.format(zti))\n",
    "\n",
    "# vary dz\n",
    "for dzi in [10., 20., 50., 100., 200.]:\n",
    "    Phi = pycurious.bouligand2009(k, beta, zt, dzi, C)\n",
    "    Phi -= Phi.min()\n",
    "    ax2.semilogx(k, Phi, label=r'$\\Delta z$ = {} km'.format(dzi))\n",
    "\n",
    "# vary beta\n",
    "for betai in np.arange(0, 5, 1):\n",
    "    Phi = pycurious.bouligand2009(k, betai, zt, dz, C)\n",
    "    Phi -= Phi[-1]\n",
    "    ax3.semilogx(k, Phi, label=r'$\\beta$ = {}'.format(betai))\n",
    "\n",
    "ax1.set_ylim(-20, 0)\n",
    "ax2.set_ylim(0, 20)\n",
    "\n",
    "ax1.legend()\n",
    "ax2.legend()\n",
    "ax3.legend()"
   ]
  },
  {
   "cell_type": "markdown",
   "metadata": {},
   "source": [
    "## Radial power spectrum\n",
    "\n",
    "The radial power spectrum is computed from a square window of the magnetic anomaly. Methods to select window sizes and compute the Fast Fourier Transform (FFT) belong to the `CurieGrid` object.\n",
    "\n",
    "`CurieGrid` achieves the following purposes:\n",
    "\n",
    "- Upward continuation\n",
    "- Reduction to the pole\n",
    "- Compute the radial power spectrum using FFT\n",
    "\n",
    "The shape of the radial power spectrum is heavily dependent on window size. Resolution of long wavelength features require large windows.\n",
    "\n",
    "> Suggestion: use a window size **> 4 times** the maximum Curie depth.\n",
    "\n",
    "Let's compare the computed radial power spectrum with random fractal noise from the test data that was generated from `Bouligand_forward.py` with the following parameters:\n",
    "\n",
    "- $\\beta$ = 3.0\n",
    "- $z_t$ = 0.305 km\n",
    "- $\\Delta z$ = 10 km"
   ]
  },
  {
   "cell_type": "code",
   "execution_count": 1,
   "metadata": {},
   "outputs": [],
   "source": [
    "import numpy as np\n",
    "import matplotlib.pyplot as plt\n",
    "%matplotlib inline\n",
    "\n",
    "import pycurious"
   ]
  },
  {
   "cell_type": "code",
   "execution_count": 2,
   "metadata": {},
   "outputs": [],
   "source": [
    "# load magnetic anomaly - i.e. random fractal noise\n",
    "mag_data = np.loadtxt(\"../../data/test_mag_data_mul.txt\")\n",
    "\n",
    "nx, ny = 305, 305\n",
    "\n",
    "x = mag_data[:,0]\n",
    "y = mag_data[:,1]\n",
    "d = mag_data[:,2].reshape(ny,nx)\n",
    "\n",
    "xmin, xmax = x.min(), x.max()\n",
    "ymin, ymax = y.min(), y.max()"
   ]
  },
  {
   "cell_type": "code",
   "execution_count": 4,
   "metadata": {},
   "outputs": [],
   "source": [
    "# initialise CurieGrid object\n",
    "grid = pycurious.CurieGrid(d, xmin, xmax, ymin, ymax)\n",
    "\n",
    "# pick the centroid\n",
    "xpt = 0.5*(xmin + xmax)\n",
    "ypt = 0.5*(ymin + ymax)\n",
    "\n",
    "window_size = 304e3\n",
    "grid = pycurious.CurieOptimise(d, xmin, xmax, ymin, ymax)"
   ]
  },
  {
   "cell_type": "code",
   "execution_count": 6,
   "metadata": {},
   "outputs": [
    {
     "data": {
      "text/plain": [
       "[<matplotlib.lines.Line2D at 0x16dd2f81860>]"
      ]
     },
     "execution_count": 6,
     "metadata": {},
     "output_type": "execute_result"
    },
    {
     "data": {
      "image/png": "[encoded data removed]",
      "text/plain": [
       "<Figure size 432x288 with 1 Axes>"
      ]
     },
     "metadata": {
      "needs_background": "light"
     },
     "output_type": "display_data"
    }
   ],
   "source": [
    "# compute radial power spectrum\n",
    "subgrid = grid.subgrid(window_size, xpt, ypt)\n",
    "k, Phi, sigma_Phi = grid.radial_spectrum(subgrid)\n",
    "\n",
    "# plot radial power spectrum\n",
    "plt.plot(k, Phi, '-o')"
   ]
  },
  {
   "cell_type": "code",
   "execution_count": 7,
   "metadata": {},
   "outputs": [],
   "source": [
    "\n",
    "\n",
    "# analytic formulation\n",
    "beta0, zt0, dz0, C0 = grid.optimise(window_size, xpt, ypt, krange=(k[0],k[-10]), func_flag=1)\n",
    "beta1, zt1, C1 = grid.optimise(window_size, xpt, ypt, krange=(1.5,2.5), func_flag=2)\n",
    "beta2, zo2, C2 = grid.optimise(window_size, xpt, ypt, krange=(0.05,0.5), func_flag=3)\n",
    "\n"
   ]
  },
  {
   "cell_type": "code",
   "execution_count": 8,
   "metadata": {},
   "outputs": [
    {
     "name": "stdout",
     "output_type": "stream",
     "text": [
      "9.08583799011594\n",
      "0.5235385303284192\n"
     ]
    }
   ],
   "source": [
    "print(zt0+dz0)\n",
    "print(2*zo2-zt1)"
   ]
  },
  {
   "cell_type": "markdown",
   "metadata": {},
   "source": [
    "**Choice of taper**\n",
    "\n",
    "The default taper is the hanning filter (see [`numpy.hanning`](#hanning) for more details), but other functions can be passed to taper, or simply set it to `None`. There is a significant offset in the power spectrum with tapering functions, however, it is the *slope* of the spectrum with wavenumber that is most important when it comes to determining Curie depth."
   ]
  },
  {
   "cell_type": "code",
   "execution_count": null,
   "metadata": {},
   "outputs": [],
   "source": [
    "\n",
    "k1, Phi1, sigma_Phi2 = grid.radial_spectrum(subgrid, taper=None)\n",
    "k2, Phi2, sigma_Phi2 = grid.radial_spectrum(subgrid, taper=np.hanning)\n",
    "k3, Phi3, sigma_Phi2 = grid.radial_spectrum(subgrid, taper=np.hamming)\n",
    "\n",
    "\n",
    "fig = plt.figure()\n",
    "ax1 = fig.add_subplot(111, xlabel=\"wavenumber (rad/km)\", ylabel=\"radial power spectrum\")\n",
    "ax1.plot(k1, Phi1, '-o', label='none')\n",
    "ax1.plot(k2, Phi2, '-o', label='hanning')\n",
    "ax1.plot(k3, Phi3, '-o', label='hamming')\n",
    "ax1.legend()\n",
    "plt.show()"
   ]
  },
  {
   "cell_type": "markdown",
   "metadata": {},
   "source": [
    "## Azimuthal power spectrum\n",
    "\n",
    "The azimuthal spectrum computes the FFT on a square window that is polarised at a range of radii. This is useful to explore linear trends in the magnetic anomaly that may align with a particular foliation or strike orientation.\n",
    "\n",
    "```python\n",
    "azimuthal_spectrum(subgrid, theta=5.0)\n",
    "```\n",
    "\n",
    "`theta` controls the thickness of each azimuth (in degrees)."
   ]
  },
  {
   "cell_type": "code",
   "execution_count": null,
   "metadata": {},
   "outputs": [],
   "source": [
    "k, Phi, theta = grid.azimuthal_spectrum(subgrid, theta=20.0)\n",
    "\n",
    "fig = plt.figure()\n",
    "ax1 = fig.add_subplot(111, ylabel=r'azimuth $\\theta$', xlabel='wavenumber (rad/km)')\n",
    "im1 = ax1.pcolor(k, theta, Phi)\n",
    "fig.colorbar(im1, label='radial power spectrum')"
   ]
  },
  {
   "cell_type": "markdown",
   "metadata": {},
   "source": [
    "Plotting each azimuth on the power spectrum-wavenumber axis highlights the different in slope for different polarisations of the magnetic anomaly."
   ]
  },
  {
   "cell_type": "code",
   "execution_count": null,
   "metadata": {},
   "outputs": [],
   "source": [
    "fig = plt.figure()\n",
    "ax1 = fig.add_subplot(111, xlabel=\"wavenumber (rad/km)\", ylabel=\"radial power spectrum\")\n",
    "\n",
    "for i, angle in enumerate(theta):\n",
    "    ax1.plot(k, Phi[i], label=r'$\\theta = {}^\\circ$'.format(angle))\n",
    "\n",
    "ax1.legend(bbox_to_anchor=(1,1))\n",
    "plt.show()"
   ]
  }
 ],
 "metadata": {
  "kernelspec": {
   "display_name": "Python 3",
   "language": "python",
   "name": "python3"
  },
  "language_info": {
   "codemirror_mode": {
    "name": "ipython",
    "version": 3
   },
   "file_extension": ".py",
   "mimetype": "text/x-python",
   "name": "python",
   "nbconvert_exporter": "python",
   "pygments_lexer": "ipython3",
   "version": "3.7.0"
  }
 },
 "nbformat": 4,
 "nbformat_minor": 2
}
