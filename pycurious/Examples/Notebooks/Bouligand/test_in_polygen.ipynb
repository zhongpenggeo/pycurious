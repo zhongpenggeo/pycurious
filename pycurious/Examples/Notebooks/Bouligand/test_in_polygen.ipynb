{
 "cells": [
  {
   "cell_type": "code",
   "execution_count": 1,
   "metadata": {},
   "outputs": [],
   "source": [
    "import numpy as np\n",
    "\n",
    "from matplotlib.path import Path"
   ]
  },
  {
   "cell_type": "code",
   "execution_count": 2,
   "metadata": {},
   "outputs": [],
   "source": [
    "xc = np.array([219.5,284.8,340.8,363.5,342.2,308.8,236.8,214.2])\n",
    "\n",
    "yc = np.array([284.8,220.8,203.5,252.8,328.8,386.2,382.2,328.8])"
   ]
  },
  {
   "cell_type": "code",
   "execution_count": 3,
   "metadata": {},
   "outputs": [],
   "source": [
    "xycrop=np.vstack((xc,yc)).T"
   ]
  },
  {
   "cell_type": "code",
   "execution_count": 5,
   "metadata": {},
   "outputs": [
    {
     "name": "stdout",
     "output_type": "stream",
     "text": [
      "[[219.5 284.8]\n",
      " [284.8 220.8]\n",
      " [340.8 203.5]\n",
      " [363.5 252.8]\n",
      " [342.2 328.8]\n",
      " [308.8 386.2]\n",
      " [236.8 382.2]\n",
      " [214.2 328.8]]\n"
     ]
    }
   ],
   "source": [
    "print(xycrop)"
   ]
  },
  {
   "cell_type": "code",
   "execution_count": null,
   "metadata": {},
   "outputs": [],
   "source": []
  }
 ],
 "metadata": {
  "kernelspec": {
   "display_name": "Python 3",
   "language": "python",
   "name": "python3"
  },
  "language_info": {
   "codemirror_mode": {
    "name": "ipython",
    "version": 3
   },
   "file_extension": ".py",
   "mimetype": "text/x-python",
   "name": "python",
   "nbconvert_exporter": "python",
   "pygments_lexer": "ipython3",
   "version": "3.7.0"
  }
 },
 "nbformat": 4,
 "nbformat_minor": 2
}
