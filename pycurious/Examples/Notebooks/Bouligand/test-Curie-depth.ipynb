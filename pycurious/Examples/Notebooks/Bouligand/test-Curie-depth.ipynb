{
 "cells": [
  {
   "cell_type": "markdown",
   "metadata": {},
   "source": [
    "# Example 4 - Spatial variation of Curie depth\n",
    "\n",
    "In Example 2 and 3 we computed the Curie depth for a single point using a fixed window. Here, compute the Curie depth over a magnetic anomaly and estimate its uncertainty.\n",
    "\n",
    "### Contents\n",
    "\n",
    "- [Optimisation routine](#Optimisation-routine)\n",
    "- [Uncertainty analysis](#Uncertainty-analysis)\n",
    "- [Sensitivity analysis](#Sensitivity-analysis)"
   ]
  },
  {
   "cell_type": "code",
   "execution_count": 1,
   "metadata": {},
   "outputs": [],
   "source": [
    "import numpy as np\n",
    "import matplotlib.pyplot as plt\n",
    "%matplotlib inline\n",
    "\n",
    "import pycurious"
   ]
  },
  {
   "cell_type": "code",
   "execution_count": 2,
   "metadata": {},
   "outputs": [],
   "source": [
    "# load x,y,anomaly\n",
    "mag_data = np.loadtxt(\"../../data/test_mag_data.txt\")\n",
    "\n",
    "nx, ny = 305, 305\n",
    "\n",
    "x = mag_data[:,0]\n",
    "y = mag_data[:,1]\n",
    "d = mag_data[:,2].reshape(ny,nx)\n",
    "\n",
    "xmin, xmax = x.min(), x.max()\n",
    "ymin, ymax = y.min(), y.max()\n",
    "\n",
    "# initialise CurieOptimise object\n",
    "grid = pycurious.CurieOptimise(d, xmin, xmax, ymin, ymax)"
   ]
  },
  {
   "cell_type": "markdown",
   "metadata": {},
   "source": [
    "## Optimisation routine\n",
    "\n",
    "Here we iteratively evaluate the Curie depth across the magnetic anomaly. We use gradient-based inversion which is deterministic, because it doesn't include uncertainty, but a quick means to recover Curie depth from the magnetic anomaly."
   ]
  },
  {
   "cell_type": "code",
   "execution_count": 3,
   "metadata": {},
   "outputs": [
    {
     "name": "stdout",
     "output_type": "stream",
     "text": [
      "number of centroids = 256\n"
     ]
    }
   ],
   "source": [
    "# get centroids\n",
    "\n",
    "window_size = 150e3\n",
    "xc_list, yc_list = grid.create_centroid_list(window_size, spacingX=10e3, spacingY=10e3)\n",
    "\n",
    "print(\"number of centroids = {}\".format(len(xc_list)))"
   ]
  },
  {
   "cell_type": "code",
   "execution_count": 5,
   "metadata": {},
   "outputs": [],
   "source": [
    "# no priors\n",
    "grid.reset_priors()\n",
    "\n",
    "beta, zt, C = grid.optimise_routine(window_size, xc_list, yc_list, krange=(0,0.5), func_flag=2)"
   ]
  },
  {
   "cell_type": "code",
   "execution_count": 6,
   "metadata": {},
   "outputs": [],
   "source": [
    "xcoords = np.unique(xc_list)\n",
    "ycoords = np.unique(yc_list)\n",
    "nc, nr = xcoords.size, ycoords.size"
   ]
  },
  {
   "cell_type": "code",
   "execution_count": 7,
   "metadata": {},
   "outputs": [
    {
     "data": {
      "text/plain": [
       "<matplotlib.colorbar.Colorbar at 0x2779ccda7f0>"
      ]
     },
     "execution_count": 7,
     "metadata": {},
     "output_type": "execute_result"
    },
    {
     "data": {
      "image/png": "[encoded data removed]",
      "text/plain": [
       "<Figure size 432x288 with 2 Axes>"
      ]
     },
     "metadata": {
      "needs_background": "light"
     },
     "output_type": "display_data"
    }
   ],
   "source": [
    "fig = plt.figure()\n",
    "ax1 = fig.add_subplot(111)\n",
    "im1 = ax1.imshow(zt.reshape(nr,nc), cmap=plt.cm.BrBG)\n",
    "fig.colorbar(im1)"
   ]
  },
  {
   "cell_type": "code",
   "execution_count": null,
   "metadata": {},
   "outputs": [],
   "source": [
    "# get dimensions of domain\n",
    "xcoords = np.unique(xc_list)\n",
    "ycoords = np.unique(yc_list)\n",
    "nc, nr = xcoords.size, ycoords.size\n",
    "\n",
    "\n",
    "# plot results\n",
    "fig, (ax1, ax2, ax3, ax4) = plt.subplots(1, 4, sharex=True, sharey=True, figsize=(17,3.))\n",
    "\n",
    "im1 = ax1.pcolor(xc_list.reshape(nr,nc), yc_list.reshape(nr,nc), beta.reshape(nr,nc))\n",
    "im2 = ax2.pcolor(xc_list.reshape(nr,nc), yc_list.reshape(nr,nc), zt.reshape(nr,nc))\n",
    "im3 = ax3.pcolor(xc_list.reshape(nr,nc), yc_list.reshape(nr,nc), dz.reshape(nr,nc))\n",
    "im4 = ax4.pcolor(xc_list.reshape(nr,nc), yc_list.reshape(nr,nc), C.reshape(nr,nc))\n",
    "\n",
    "fig.colorbar(im1, ax=ax1, label=r\"$\\beta$\")\n",
    "fig.colorbar(im2, ax=ax2, label=r\"$z_t$\")\n",
    "fig.colorbar(im3, ax=ax3, label=r\"$\\Delta z$\")\n",
    "fig.colorbar(im4, ax=ax4, label=r\"$C$\")"
   ]
  },
  {
   "cell_type": "code",
   "execution_count": null,
   "metadata": {},
   "outputs": [],
   "source": [
    "print(xcoords)"
   ]
  },
  {
   "cell_type": "code",
   "execution_count": null,
   "metadata": {},
   "outputs": [],
   "source": [
    "# plot Curie depth\n",
    "\n",
    "curie_depth = zt + dz\n",
    "\n",
    "fig = plt.figure()\n",
    "ax1 = fig.add_subplot(111)\n",
    "im1 = ax1.imshow(curie_depth.reshape(nr,nc), cmap=plt.cm.BrBG)\n",
    "fig.colorbar(im1)"
   ]
  },
  {
   "cell_type": "markdown",
   "metadata": {},
   "source": [
    "## Uncertainty analysis\n",
    "\n",
    "The variation of Curie depth is not particularly useful without any estimate of the uncertainty. We conduct the same MCMC simulation we performed in the previous example [Ex3-Posing-the-inverse-problem](./Ex3-Posing-the-inverse-problem.ipynb) to sample the posterior."
   ]
  },
  {
   "cell_type": "code",
   "execution_count": null,
   "metadata": {},
   "outputs": [],
   "source": [
    "x_scale = [0.25, 0.1, 1.0, 0.5]\n",
    "\n",
    "# run more simulations for production runs\n",
    "burnin = 1000\n",
    "nsim = 5000\n",
    "\n",
    "# mean across the domain\n",
    "mu_beta, mu_zt, mu_dz, mu_C = beta.mean(), zt.mean(), dz.mean(), C.mean()\n",
    "\n",
    "pt_post = []\n",
    "\n",
    "# This will take some time\n",
    "for xc, yc in zip(xc_list, yc_list):\n",
    "    posterior = grid.metropolis_hastings(window_size, xc, yc, nsim, burnin, x_scale,\\\n",
    "                                         mu_beta, mu_zt, mu_dz, mu_C, taper=None)\n",
    "    pt_post.append( posterior )"
   ]
  },
  {
   "cell_type": "code",
   "execution_count": null,
   "metadata": {},
   "outputs": [],
   "source": [
    "curie_depth = np.zeros_like(xc_list)\n",
    "uncertainty = np.zeros_like(xc_list)\n",
    "\n",
    "for i, pt in enumerate(pt_post):\n",
    "    betaP, ztP, dzP, CP = pt\n",
    "    cpd = ztP + dzP\n",
    "    print(cpd)\n",
    "    curie_depth[i] = np.mean(cpd)\n",
    "    uncertainty[i] = np.std(cpd)"
   ]
  },
  {
   "cell_type": "code",
   "execution_count": null,
   "metadata": {},
   "outputs": [],
   "source": [
    "# plot Curie depth\n",
    "\n",
    "curie_depth = zt + dz\n",
    "\n",
    "fig, (ax1,ax2) = plt.subplots(1,2, figsize=(11,4))\n",
    "im1 = ax1.imshow(curie_depth.reshape(nr,nc), cmap=plt.cm.BrBG)\n",
    "im2 = ax2.imshow(uncertainty.reshape(nr,nc), cmap=plt.cm.Blues)\n",
    "fig.colorbar(im1, ax=ax1)\n",
    "fig.colorbar(im2, ax=ax2)\n",
    "\n",
    "ax1.set_title(\"Curie depth (km)\")\n",
    "ax2.set_title(\"Uncertainty (km)\")"
   ]
  },
  {
   "cell_type": "markdown",
   "metadata": {},
   "source": [
    "## Sensitivity analysis\n",
    "\n",
    "The sensitivity analysis is a gradient-based solution to approximate the posterior distribution (read the motivation for this in Tarantola: *Inverse Problem Theory*). The radial power spectrum $\\Phi$ is randomly perturbed within its uncertainty $\\sigma_{\\Phi}$ to sample locally around the MAP estimate.\n",
    "\n",
    "$$\n",
    "\\Phi_{d}^* = \\Phi_d + \\delta \\Phi_d\n",
    "$$\n",
    "\n",
    "where $\\delta \\Phi_d$ is a random perturbation generated from the probability density of $\\Phi_d$. This is equivalent to pertubing the likelihood function,\n",
    "\n",
    "$$\n",
    "P(\\Phi|\\mathbf{m}) = \\frac{1}{(\\sqrt{2\\pi} \\sigma_\\Phi)^n} \\exp \\left( - \\frac{\\lvert \\Phi(\\mathbf{m}) - \\Phi_d^* \\lvert^2}{2 \\sigma_\\Phi^2} \\right)\n",
    "$$\n",
    "\n",
    "where $\\mathbf{m}^*$ is a perturbed prior distribution: $\\mathbf{m}_p^* = \\mathbf{m}_p + \\delta \\mathbf{m}_p$. If the prior is a Gaussian normal distribution, then the perturbed prior is\n",
    "\n",
    "$$\n",
    "P(\\mathbf{m}) = \\frac{1}{\\sqrt{2\\pi} \\sigma_p} \\exp \\left( - \\frac{\\lvert \\mathbf{m} - \\mathbf{m}_p^* \\lvert^2}{2 \\sigma_p^2} \\right)\n",
    "$$\n",
    "\n",
    "Prior distributions can be added by\n",
    "\n",
    "```python\n",
    "from scipy import stats\n",
    "beta_p = stats.norm(3.0, 1.0)\n",
    "grid.add_prior(beta=beta_p)\n",
    "```\n",
    "\n",
    "We repeat the inversion multiple times, sampling different values from $P(\\mathbf{m})$ and $P(\\Phi|\\mathbf{m})$ to evaluate the uncertainty in each variable."
   ]
  },
  {
   "cell_type": "code",
   "execution_count": null,
   "metadata": {},
   "outputs": [],
   "source": [
    "nsim = 100\n",
    "pt_post = []\n",
    "\n",
    "for xc, yc in zip(xc_list, yc_list):\n",
    "    sensitivity = grid.sensitivity(window_size, xc, yc, nsim, mu_beta, mu_zt, mu_dz, mu_C, taper=None)\n",
    "    pt_post.append( sensitivity )"
   ]
  },
  {
   "cell_type": "code",
   "execution_count": null,
   "metadata": {},
   "outputs": [],
   "source": [
    "curie_depth = np.zeros_like(xc_list)\n",
    "uncertainty = np.zeros_like(xc_list)\n",
    "\n",
    "for i, pt in enumerate(pt_post):\n",
    "    betaP, ztP, dzP, CP = pt\n",
    "    cpd = ztP + dzP\n",
    "    curie_depth[i] = np.mean(cpd)\n",
    "    uncertainty[i] = np.std(cpd)"
   ]
  },
  {
   "cell_type": "code",
   "execution_count": null,
   "metadata": {},
   "outputs": [],
   "source": [
    "# plot Curie depth\n",
    "\n",
    "curie_depth = zt + dz\n",
    "\n",
    "fig, (ax1,ax2) = plt.subplots(1,2, figsize=(11,4))\n",
    "im1 = ax1.imshow(curie_depth.reshape(nr,nc), cmap=plt.cm.BrBG)\n",
    "im2 = ax2.imshow(uncertainty.reshape(nr,nc), cmap=plt.cm.Blues)\n",
    "fig.colorbar(im1, ax=ax1)\n",
    "fig.colorbar(im2, ax=ax2)\n",
    "\n",
    "ax1.set_title(\"Curie depth (km)\")\n",
    "ax2.set_title(\"Uncertainty (km)\")"
   ]
  }
 ],
 "metadata": {
  "kernelspec": {
   "display_name": "Python 3",
   "language": "python",
   "name": "python3"
  },
  "language_info": {
   "codemirror_mode": {
    "name": "ipython",
    "version": 3
   },
   "file_extension": ".py",
   "mimetype": "text/x-python",
   "name": "python",
   "nbconvert_exporter": "python",
   "pygments_lexer": "ipython3",
   "version": "3.7.0"
  }
 },
 "nbformat": 4,
 "nbformat_minor": 2
}
